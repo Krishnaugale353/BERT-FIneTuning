{
  "metadata": {
    "kernelspec": {
      "language": "python",
      "display_name": "Python 3",
      "name": "python3"
    },
    "language_info": {
      "name": "python",
      "version": "3.10.14",
      "mimetype": "text/x-python",
      "codemirror_mode": {
        "name": "ipython",
        "version": 3
      },
      "pygments_lexer": "ipython3",
      "nbconvert_exporter": "python",
      "file_extension": ".py"
    },
    "kaggle": {
      "accelerator": "nvidiaTeslaT4",
      "dataSources": [
        {
          "sourceId": 4627138,
          "sourceType": "datasetVersion",
          "datasetId": 2692305
        }
      ],
      "dockerImageVersionId": 30787,
      "isInternetEnabled": true,
      "language": "python",
      "sourceType": "notebook",
      "isGpuEnabled": true
    },
    "colab": {
      "name": "complaints",
      "provenance": [],
      "include_colab_link": true
    }
  },
  "nbformat_minor": 0,
  "nbformat": 4,
  "cells": [
    {
      "cell_type": "markdown",
      "metadata": {
        "id": "view-in-github",
        "colab_type": "text"
      },
      "source": [
        "<a href=\"https://colab.research.google.com/github/Krishnaugale353/BERT-FIneTuning/blob/main/complaints.ipynb\" target=\"_parent\"><img src=\"https://colab.research.google.com/assets/colab-badge.svg\" alt=\"Open In Colab\"/></a>"
      ]
    },
    {
      "source": [
        "# IMPORTANT: RUN THIS CELL IN ORDER TO IMPORT YOUR KAGGLE DATA SOURCES,\n",
        "# THEN FEEL FREE TO DELETE THIS CELL.\n",
        "# NOTE: THIS NOTEBOOK ENVIRONMENT DIFFERS FROM KAGGLE'S PYTHON\n",
        "# ENVIRONMENT SO THERE MAY BE MISSING LIBRARIES USED BY YOUR\n",
        "# NOTEBOOK.\n",
        "import kagglehub\n",
        "sherrytp_consumer_complaints_path = kagglehub.dataset_download('sherrytp/consumer-complaints')\n",
        "\n",
        "print('Data source import complete.')\n"
      ],
      "metadata": {
        "id": "rVCkHEaZvcj-"
      },
      "cell_type": "code",
      "outputs": [],
      "execution_count": null
    },
    {
      "cell_type": "code",
      "source": [
        "# This Python 3 environment comes with many helpful analytics libraries installed\n",
        "# It is defined by the kaggle/python Docker image: https://github.com/kaggle/docker-python\n",
        "# For example, here's several helpful packages to load\n",
        "\n",
        "import numpy as np # linear algebra\n",
        "import pandas as pd # data processing, CSV file I/O (e.g. pd.read_csv)\n",
        "\n",
        "# Input data files are available in the read-only \"../input/\" directory\n",
        "# For example, running this (by clicking run or pressing Shift+Enter) will list all files under the input directory\n",
        "\n",
        "import os\n",
        "for dirname, _, filenames in os.walk('/kaggle/input'):\n",
        "    for filename in filenames:\n",
        "        print(os.path.join(dirname, filename))\n",
        "\n",
        "# You can write up to 20GB to the current directory (/kaggle/working/) that gets preserved as output when you create a version using \"Save & Run All\"\n",
        "# You can also write temporary files to /kaggle/temp/, but they won't be saved outside of the current session"
      ],
      "metadata": {
        "_uuid": "8f2839f25d086af736a60e9eeb907d3b93b6e0e5",
        "_cell_guid": "b1076dfc-b9ad-4769-8c92-a6c4dae69d19",
        "trusted": true,
        "execution": {
          "iopub.status.busy": "2024-12-03T13:23:47.461949Z",
          "iopub.execute_input": "2024-12-03T13:23:47.462213Z",
          "iopub.status.idle": "2024-12-03T13:23:48.367572Z",
          "shell.execute_reply.started": "2024-12-03T13:23:47.462187Z",
          "shell.execute_reply": "2024-12-03T13:23:48.366566Z"
        },
        "id": "Howdsc57vckC",
        "outputId": "4a0b5024-7a46-49fd-b9a9-79b7e57b44ad"
      },
      "outputs": [
        {
          "name": "stdout",
          "text": "/kaggle/input/consumer-complaints/complaints.csv\n/kaggle/input/consumer-complaints/complaints.json\n",
          "output_type": "stream"
        }
      ],
      "execution_count": null
    },
    {
      "cell_type": "code",
      "source": [
        "df=pd.read_csv(\"/kaggle/input/consumer-complaints/complaints.csv\")"
      ],
      "metadata": {
        "trusted": true,
        "execution": {
          "iopub.status.busy": "2024-12-03T13:23:48.36926Z",
          "iopub.execute_input": "2024-12-03T13:23:48.369746Z",
          "iopub.status.idle": "2024-12-03T13:24:29.125181Z",
          "shell.execute_reply.started": "2024-12-03T13:23:48.369705Z",
          "shell.execute_reply": "2024-12-03T13:24:29.124508Z"
        },
        "id": "c7ePoKCuvckF",
        "outputId": "2b979c71-4976-4b9d-abf3-f280a5f4b269"
      },
      "outputs": [
        {
          "name": "stderr",
          "text": "/tmp/ipykernel_30/2844941221.py:1: DtypeWarning: Columns (9) have mixed types. Specify dtype option on import or set low_memory=False.\n  df=pd.read_csv(\"/kaggle/input/consumer-complaints/complaints.csv\")\n",
          "output_type": "stream"
        }
      ],
      "execution_count": null
    },
    {
      "cell_type": "code",
      "source": [
        "df.head()"
      ],
      "metadata": {
        "trusted": true,
        "execution": {
          "iopub.status.busy": "2024-12-03T13:24:29.126202Z",
          "iopub.execute_input": "2024-12-03T13:24:29.12647Z",
          "iopub.status.idle": "2024-12-03T13:24:29.148452Z",
          "shell.execute_reply.started": "2024-12-03T13:24:29.126443Z",
          "shell.execute_reply": "2024-12-03T13:24:29.147716Z"
        },
        "id": "nAPZUHocvckH",
        "outputId": "68d3bfa9-14f9-4a76-8b27-d2c926a70e13"
      },
      "outputs": [
        {
          "execution_count": 3,
          "output_type": "execute_result",
          "data": {
            "text/plain": "  Date received                                            Product  \\\n0    2022-11-19  Credit reporting, credit repair services, or o...   \n1    2022-10-13  Credit reporting, credit repair services, or o...   \n2    2022-10-13  Credit reporting, credit repair services, or o...   \n3    2022-10-12  Credit reporting, credit repair services, or o...   \n4    2022-11-19  Credit reporting, credit repair services, or o...   \n\n        Sub-product                                 Issue  \\\n0  Credit reporting           Improper use of your report   \n1  Credit reporting           Improper use of your report   \n2  Credit reporting  Incorrect information on your report   \n3  Credit reporting  Incorrect information on your report   \n4  Credit reporting  Incorrect information on your report   \n\n                                       Sub-issue  \\\n0  Reporting company used your report improperly   \n1  Reporting company used your report improperly   \n2            Information belongs to someone else   \n3                 Personal information incorrect   \n4            Information belongs to someone else   \n\n                        Consumer complaint narrative  \\\n0                                                NaN   \n1  In accordance with the fair credit reporting a...   \n2  This is not a duplicate nor is this complaint ...   \n3                                                NaN   \n4                                                NaN   \n\n                             Company public response  \\\n0                                                NaN   \n1  Company has responded to the consumer and the ...   \n2  Company has responded to the consumer and the ...   \n3  Company has responded to the consumer and the ...   \n4                                                NaN   \n\n                                  Company State ZIP code           Tags  \\\n0                           EQUIFAX, INC.    TX  78541.0  Servicemember   \n1  TRANSUNION INTERMEDIATE HOLDINGS, INC.    GA  30043.0            NaN   \n2  TRANSUNION INTERMEDIATE HOLDINGS, INC.    CA  90660.0            NaN   \n3  TRANSUNION INTERMEDIATE HOLDINGS, INC.    PA  19148.0            NaN   \n4  TRANSUNION INTERMEDIATE HOLDINGS, INC.    OH  44130.0            NaN   \n\n  Consumer consent provided? Submitted via Date sent to company  \\\n0                        NaN           Web           2022-11-19   \n1           Consent provided           Web           2022-10-13   \n2           Consent provided           Web           2022-10-13   \n3       Consent not provided           Web           2022-10-12   \n4                        NaN           Web           2022-11-19   \n\n      Company response to consumer Timely response? Consumer disputed?  \\\n0                      In progress              Yes                NaN   \n1          Closed with explanation              Yes                NaN   \n2  Closed with non-monetary relief              Yes                NaN   \n3  Closed with non-monetary relief              Yes                NaN   \n4                      In progress              Yes                NaN   \n\n   Complaint ID  \n0       6222374  \n1       6079679  \n2       6076990  \n3       6080312  \n4       6222634  ",
            "text/html": "<div>\n<style scoped>\n    .dataframe tbody tr th:only-of-type {\n        vertical-align: middle;\n    }\n\n    .dataframe tbody tr th {\n        vertical-align: top;\n    }\n\n    .dataframe thead th {\n        text-align: right;\n    }\n</style>\n<table border=\"1\" class=\"dataframe\">\n  <thead>\n    <tr style=\"text-align: right;\">\n      <th></th>\n      <th>Date received</th>\n      <th>Product</th>\n      <th>Sub-product</th>\n      <th>Issue</th>\n      <th>Sub-issue</th>\n      <th>Consumer complaint narrative</th>\n      <th>Company public response</th>\n      <th>Company</th>\n      <th>State</th>\n      <th>ZIP code</th>\n      <th>Tags</th>\n      <th>Consumer consent provided?</th>\n      <th>Submitted via</th>\n      <th>Date sent to company</th>\n      <th>Company response to consumer</th>\n      <th>Timely response?</th>\n      <th>Consumer disputed?</th>\n      <th>Complaint ID</th>\n    </tr>\n  </thead>\n  <tbody>\n    <tr>\n      <th>0</th>\n      <td>2022-11-19</td>\n      <td>Credit reporting, credit repair services, or o...</td>\n      <td>Credit reporting</td>\n      <td>Improper use of your report</td>\n      <td>Reporting company used your report improperly</td>\n      <td>NaN</td>\n      <td>NaN</td>\n      <td>EQUIFAX, INC.</td>\n      <td>TX</td>\n      <td>78541.0</td>\n      <td>Servicemember</td>\n      <td>NaN</td>\n      <td>Web</td>\n      <td>2022-11-19</td>\n      <td>In progress</td>\n      <td>Yes</td>\n      <td>NaN</td>\n      <td>6222374</td>\n    </tr>\n    <tr>\n      <th>1</th>\n      <td>2022-10-13</td>\n      <td>Credit reporting, credit repair services, or o...</td>\n      <td>Credit reporting</td>\n      <td>Improper use of your report</td>\n      <td>Reporting company used your report improperly</td>\n      <td>In accordance with the fair credit reporting a...</td>\n      <td>Company has responded to the consumer and the ...</td>\n      <td>TRANSUNION INTERMEDIATE HOLDINGS, INC.</td>\n      <td>GA</td>\n      <td>30043.0</td>\n      <td>NaN</td>\n      <td>Consent provided</td>\n      <td>Web</td>\n      <td>2022-10-13</td>\n      <td>Closed with explanation</td>\n      <td>Yes</td>\n      <td>NaN</td>\n      <td>6079679</td>\n    </tr>\n    <tr>\n      <th>2</th>\n      <td>2022-10-13</td>\n      <td>Credit reporting, credit repair services, or o...</td>\n      <td>Credit reporting</td>\n      <td>Incorrect information on your report</td>\n      <td>Information belongs to someone else</td>\n      <td>This is not a duplicate nor is this complaint ...</td>\n      <td>Company has responded to the consumer and the ...</td>\n      <td>TRANSUNION INTERMEDIATE HOLDINGS, INC.</td>\n      <td>CA</td>\n      <td>90660.0</td>\n      <td>NaN</td>\n      <td>Consent provided</td>\n      <td>Web</td>\n      <td>2022-10-13</td>\n      <td>Closed with non-monetary relief</td>\n      <td>Yes</td>\n      <td>NaN</td>\n      <td>6076990</td>\n    </tr>\n    <tr>\n      <th>3</th>\n      <td>2022-10-12</td>\n      <td>Credit reporting, credit repair services, or o...</td>\n      <td>Credit reporting</td>\n      <td>Incorrect information on your report</td>\n      <td>Personal information incorrect</td>\n      <td>NaN</td>\n      <td>Company has responded to the consumer and the ...</td>\n      <td>TRANSUNION INTERMEDIATE HOLDINGS, INC.</td>\n      <td>PA</td>\n      <td>19148.0</td>\n      <td>NaN</td>\n      <td>Consent not provided</td>\n      <td>Web</td>\n      <td>2022-10-12</td>\n      <td>Closed with non-monetary relief</td>\n      <td>Yes</td>\n      <td>NaN</td>\n      <td>6080312</td>\n    </tr>\n    <tr>\n      <th>4</th>\n      <td>2022-11-19</td>\n      <td>Credit reporting, credit repair services, or o...</td>\n      <td>Credit reporting</td>\n      <td>Incorrect information on your report</td>\n      <td>Information belongs to someone else</td>\n      <td>NaN</td>\n      <td>NaN</td>\n      <td>TRANSUNION INTERMEDIATE HOLDINGS, INC.</td>\n      <td>OH</td>\n      <td>44130.0</td>\n      <td>NaN</td>\n      <td>NaN</td>\n      <td>Web</td>\n      <td>2022-11-19</td>\n      <td>In progress</td>\n      <td>Yes</td>\n      <td>NaN</td>\n      <td>6222634</td>\n    </tr>\n  </tbody>\n</table>\n</div>"
          },
          "metadata": {}
        }
      ],
      "execution_count": null
    },
    {
      "cell_type": "code",
      "source": [
        "df.shape"
      ],
      "metadata": {
        "trusted": true,
        "execution": {
          "iopub.status.busy": "2024-12-03T13:24:29.150668Z",
          "iopub.execute_input": "2024-12-03T13:24:29.151249Z",
          "iopub.status.idle": "2024-12-03T13:24:29.156553Z",
          "shell.execute_reply.started": "2024-12-03T13:24:29.15122Z",
          "shell.execute_reply": "2024-12-03T13:24:29.155564Z"
        },
        "id": "06duFrbQvckJ",
        "outputId": "47b6ec1a-b121-4187-908b-8e51fd461896"
      },
      "outputs": [
        {
          "execution_count": 4,
          "output_type": "execute_result",
          "data": {
            "text/plain": "(3093136, 18)"
          },
          "metadata": {}
        }
      ],
      "execution_count": null
    },
    {
      "cell_type": "code",
      "source": [
        "df.columns"
      ],
      "metadata": {
        "trusted": true,
        "execution": {
          "iopub.status.busy": "2024-12-03T13:24:29.157458Z",
          "iopub.execute_input": "2024-12-03T13:24:29.15773Z",
          "iopub.status.idle": "2024-12-03T13:24:29.166525Z",
          "shell.execute_reply.started": "2024-12-03T13:24:29.157704Z",
          "shell.execute_reply": "2024-12-03T13:24:29.16574Z"
        },
        "id": "lqhv6d5RvckL",
        "outputId": "dc9f3bc2-9efe-49e4-e466-08cb95b8b36e"
      },
      "outputs": [
        {
          "execution_count": 5,
          "output_type": "execute_result",
          "data": {
            "text/plain": "Index(['Date received', 'Product', 'Sub-product', 'Issue', 'Sub-issue',\n       'Consumer complaint narrative', 'Company public response', 'Company',\n       'State', 'ZIP code', 'Tags', 'Consumer consent provided?',\n       'Submitted via', 'Date sent to company', 'Company response to consumer',\n       'Timely response?', 'Consumer disputed?', 'Complaint ID'],\n      dtype='object')"
          },
          "metadata": {}
        }
      ],
      "execution_count": null
    },
    {
      "cell_type": "code",
      "source": [
        "df=df[[\"Product\",\"Consumer complaint narrative\"]]"
      ],
      "metadata": {
        "trusted": true,
        "execution": {
          "iopub.status.busy": "2024-12-03T13:24:29.167375Z",
          "iopub.execute_input": "2024-12-03T13:24:29.167578Z",
          "iopub.status.idle": "2024-12-03T13:24:29.26496Z",
          "shell.execute_reply.started": "2024-12-03T13:24:29.167557Z",
          "shell.execute_reply": "2024-12-03T13:24:29.26408Z"
        },
        "id": "RHpZt1gyvckM"
      },
      "outputs": [],
      "execution_count": null
    },
    {
      "cell_type": "code",
      "source": [
        "df.shape"
      ],
      "metadata": {
        "trusted": true,
        "execution": {
          "iopub.status.busy": "2024-12-03T13:24:29.266019Z",
          "iopub.execute_input": "2024-12-03T13:24:29.266363Z",
          "iopub.status.idle": "2024-12-03T13:24:29.271986Z",
          "shell.execute_reply.started": "2024-12-03T13:24:29.266325Z",
          "shell.execute_reply": "2024-12-03T13:24:29.271108Z"
        },
        "id": "i4klPeWSvckQ",
        "outputId": "4ad1b4d5-7fed-49d5-957e-c3a214c9dcec"
      },
      "outputs": [
        {
          "execution_count": 7,
          "output_type": "execute_result",
          "data": {
            "text/plain": "(3093136, 2)"
          },
          "metadata": {}
        }
      ],
      "execution_count": null
    },
    {
      "cell_type": "code",
      "source": [
        "df.isna().sum()"
      ],
      "metadata": {
        "trusted": true,
        "execution": {
          "iopub.status.busy": "2024-12-03T13:24:29.273021Z",
          "iopub.execute_input": "2024-12-03T13:24:29.273254Z",
          "iopub.status.idle": "2024-12-03T13:24:29.612232Z",
          "shell.execute_reply.started": "2024-12-03T13:24:29.273231Z",
          "shell.execute_reply": "2024-12-03T13:24:29.611439Z"
        },
        "id": "BiFaWoY2vckS",
        "outputId": "6b1606d1-ee59-4a6e-857f-a2f6ec2a696b"
      },
      "outputs": [
        {
          "execution_count": 8,
          "output_type": "execute_result",
          "data": {
            "text/plain": "Product                               0\nConsumer complaint narrative    1981806\ndtype: int64"
          },
          "metadata": {}
        }
      ],
      "execution_count": null
    },
    {
      "cell_type": "code",
      "source": [
        "df.isna().sum() / len(df)*100"
      ],
      "metadata": {
        "trusted": true,
        "execution": {
          "iopub.status.busy": "2024-12-03T13:24:29.613375Z",
          "iopub.execute_input": "2024-12-03T13:24:29.613631Z",
          "iopub.status.idle": "2024-12-03T13:24:29.95287Z",
          "shell.execute_reply.started": "2024-12-03T13:24:29.613606Z",
          "shell.execute_reply": "2024-12-03T13:24:29.952028Z"
        },
        "id": "2NxGF_EDvckT",
        "outputId": "7ba1f31f-a5f0-4bfc-e6f5-834aa800f3ce"
      },
      "outputs": [
        {
          "execution_count": 9,
          "output_type": "execute_result",
          "data": {
            "text/plain": "Product                          0.000000\nConsumer complaint narrative    64.071092\ndtype: float64"
          },
          "metadata": {}
        }
      ],
      "execution_count": null
    },
    {
      "cell_type": "code",
      "source": [
        "df=df.dropna()"
      ],
      "metadata": {
        "trusted": true,
        "execution": {
          "iopub.status.busy": "2024-12-03T13:24:29.955571Z",
          "iopub.execute_input": "2024-12-03T13:24:29.955828Z",
          "iopub.status.idle": "2024-12-03T13:24:30.384729Z",
          "shell.execute_reply.started": "2024-12-03T13:24:29.955805Z",
          "shell.execute_reply": "2024-12-03T13:24:30.384052Z"
        },
        "id": "fEa4mGQEvckU"
      },
      "outputs": [],
      "execution_count": null
    },
    {
      "cell_type": "code",
      "source": [
        "df.shape"
      ],
      "metadata": {
        "trusted": true,
        "execution": {
          "iopub.status.busy": "2024-12-03T13:24:30.385613Z",
          "iopub.execute_input": "2024-12-03T13:24:30.385851Z",
          "iopub.status.idle": "2024-12-03T13:24:30.391222Z",
          "shell.execute_reply.started": "2024-12-03T13:24:30.385826Z",
          "shell.execute_reply": "2024-12-03T13:24:30.390338Z"
        },
        "id": "B_KFfHiJvckV",
        "outputId": "aa3b32a5-8519-4c2c-dc16-020630d9c591"
      },
      "outputs": [
        {
          "execution_count": 11,
          "output_type": "execute_result",
          "data": {
            "text/plain": "(1111330, 2)"
          },
          "metadata": {}
        }
      ],
      "execution_count": null
    },
    {
      "cell_type": "code",
      "source": [
        "df[\"Product\"].nunique()"
      ],
      "metadata": {
        "trusted": true,
        "execution": {
          "iopub.status.busy": "2024-12-03T13:24:30.392259Z",
          "iopub.execute_input": "2024-12-03T13:24:30.392533Z",
          "iopub.status.idle": "2024-12-03T13:24:30.499925Z",
          "shell.execute_reply.started": "2024-12-03T13:24:30.392508Z",
          "shell.execute_reply": "2024-12-03T13:24:30.49919Z"
        },
        "id": "ZibICT9gvckV",
        "outputId": "bcd38a27-dc22-47b1-db8b-0bb15691e5e2"
      },
      "outputs": [
        {
          "execution_count": 12,
          "output_type": "execute_result",
          "data": {
            "text/plain": "18"
          },
          "metadata": {}
        }
      ],
      "execution_count": null
    },
    {
      "cell_type": "code",
      "source": [
        "df[\"Product\"].unique()"
      ],
      "metadata": {
        "trusted": true,
        "execution": {
          "iopub.status.busy": "2024-12-03T13:24:30.500814Z",
          "iopub.execute_input": "2024-12-03T13:24:30.501041Z",
          "iopub.status.idle": "2024-12-03T13:24:30.598172Z",
          "shell.execute_reply.started": "2024-12-03T13:24:30.501018Z",
          "shell.execute_reply": "2024-12-03T13:24:30.597476Z"
        },
        "id": "VhrX7xDFvckW",
        "outputId": "dd5a923e-5c93-4582-ff32-3361f7f46776"
      },
      "outputs": [
        {
          "execution_count": 13,
          "output_type": "execute_result",
          "data": {
            "text/plain": "array(['Credit reporting, credit repair services, or other personal consumer reports',\n       'Debt collection',\n       'Money transfer, virtual currency, or money service', 'Mortgage',\n       'Credit card or prepaid card', 'Vehicle loan or lease',\n       'Student loan', 'Checking or savings account',\n       'Payday loan, title loan, or personal loan', 'Consumer Loan',\n       'Bank account or service', 'Credit reporting', 'Credit card',\n       'Prepaid card', 'Money transfers', 'Payday loan',\n       'Other financial service', 'Virtual currency'], dtype=object)"
          },
          "metadata": {}
        }
      ],
      "execution_count": null
    },
    {
      "cell_type": "code",
      "source": [
        "df[\"Product\"].value_counts()/len(df)*100"
      ],
      "metadata": {
        "trusted": true,
        "execution": {
          "iopub.status.busy": "2024-12-03T13:24:30.599118Z",
          "iopub.execute_input": "2024-12-03T13:24:30.599463Z",
          "iopub.status.idle": "2024-12-03T13:24:30.68595Z",
          "shell.execute_reply.started": "2024-12-03T13:24:30.599436Z",
          "shell.execute_reply": "2024-12-03T13:24:30.684991Z"
        },
        "id": "zUsE1dVJvckW",
        "outputId": "13e5d7f2-4e44-48d6-cb5c-be7bb0f825bf"
      },
      "outputs": [
        {
          "execution_count": 14,
          "output_type": "execute_result",
          "data": {
            "text/plain": "Product\nCredit reporting, credit repair services, or other personal consumer reports    46.215616\nDebt collection                                                                 17.261300\nMortgage                                                                         8.790638\nCredit card or prepaid card                                                      7.351372\nChecking or savings account                                                      4.868671\nStudent loan                                                                     2.940711\nCredit reporting                                                                 2.842360\nMoney transfer, virtual currency, or money service                               2.387500\nVehicle loan or lease                                                            1.786508\nCredit card                                                                      1.695086\nBank account or service                                                          1.339386\nPayday loan, title loan, or personal loan                                        1.218720\nConsumer Loan                                                                    0.852132\nPayday loan                                                                      0.157109\nMoney transfers                                                                  0.134703\nPrepaid card                                                                     0.130474\nOther financial service                                                          0.026275\nVirtual currency                                                                 0.001440\nName: count, dtype: float64"
          },
          "metadata": {}
        }
      ],
      "execution_count": null
    },
    {
      "cell_type": "code",
      "source": [
        "class_dict = {\n",
        "    'Vehicle loan or lease': 'Loan',\n",
        "    'Credit card or prepaid card': 'Card',\n",
        "    'Credit reporting, credit repair services, or other personal consumer reports': 'Credit Report',\n",
        "    'Money transfer, virtual currency, or money service': 'Services',\n",
        "    'Mortgage': 'Others',\n",
        "    'Payday loan, title loan, or personal loan': 'Loan',\n",
        "    'Debt collection': 'Others',\n",
        "    'Student loan': 'Loan',\n",
        "    'Consumer Loan': 'Loan',\n",
        "    'Credit card': 'Card',\n",
        "    'Checking or savings account': 'Others',\n",
        "    'Money transfers': 'Services',\n",
        "    'Bank account or service': 'Services',\n",
        "    'Credit reporting': 'Credit Report',\n",
        "    'Prepaid card': 'Card',\n",
        "    'Payday loan': 'Loan',\n",
        "    'Other financial service': 'Services',\n",
        "    'Virtual currency': 'Services'\n",
        "}\n"
      ],
      "metadata": {
        "trusted": true,
        "execution": {
          "iopub.status.busy": "2024-12-03T13:24:30.686821Z",
          "iopub.execute_input": "2024-12-03T13:24:30.687056Z",
          "iopub.status.idle": "2024-12-03T13:24:30.69177Z",
          "shell.execute_reply.started": "2024-12-03T13:24:30.687032Z",
          "shell.execute_reply": "2024-12-03T13:24:30.690789Z"
        },
        "id": "T8mQkrRNvckX"
      },
      "outputs": [],
      "execution_count": null
    },
    {
      "cell_type": "code",
      "source": [
        "df.replace({\"Product\":class_dict},inplace=True)"
      ],
      "metadata": {
        "trusted": true,
        "execution": {
          "iopub.status.busy": "2024-12-03T13:24:30.692943Z",
          "iopub.execute_input": "2024-12-03T13:24:30.693567Z",
          "iopub.status.idle": "2024-12-03T13:24:31.343632Z",
          "shell.execute_reply.started": "2024-12-03T13:24:30.693529Z",
          "shell.execute_reply": "2024-12-03T13:24:31.342693Z"
        },
        "id": "HAbVVWnKvckX"
      },
      "outputs": [],
      "execution_count": null
    },
    {
      "cell_type": "code",
      "source": [
        "df"
      ],
      "metadata": {
        "trusted": true,
        "execution": {
          "iopub.status.busy": "2024-12-03T13:24:31.344832Z",
          "iopub.execute_input": "2024-12-03T13:24:31.345182Z",
          "iopub.status.idle": "2024-12-03T13:24:31.354809Z",
          "shell.execute_reply.started": "2024-12-03T13:24:31.345146Z",
          "shell.execute_reply": "2024-12-03T13:24:31.353904Z"
        },
        "id": "lsHLjlOjvckX",
        "outputId": "27e26fc5-c1b7-4d3b-a5ae-ccd6c4e7c38d"
      },
      "outputs": [
        {
          "execution_count": 17,
          "output_type": "execute_result",
          "data": {
            "text/plain": "               Product                       Consumer complaint narrative\n1        Credit Report  In accordance with the fair credit reporting a...\n2        Credit Report  This is not a duplicate nor is this complaint ...\n81       Credit Report  It has come to my attention. That my personal ...\n82       Credit Report  The Federal Trade Commission Bureau of Consume...\n86       Credit Report  There were several inaccurate personal informa...\n...                ...                                                ...\n3093130           Card  Automated calls from \" XXXX with Capital One '...\n3093131         Others  I have disputed my debts several times with no...\n3093132         Others  My father died in XX/XX/XXXX. Left me his only...\n3093133  Credit Report  cfbp i would Like to file a complaint on Exper...\n3093134  Credit Report  My husband and I are in the middle of an FHA S...\n\n[1111330 rows x 2 columns]",
            "text/html": "<div>\n<style scoped>\n    .dataframe tbody tr th:only-of-type {\n        vertical-align: middle;\n    }\n\n    .dataframe tbody tr th {\n        vertical-align: top;\n    }\n\n    .dataframe thead th {\n        text-align: right;\n    }\n</style>\n<table border=\"1\" class=\"dataframe\">\n  <thead>\n    <tr style=\"text-align: right;\">\n      <th></th>\n      <th>Product</th>\n      <th>Consumer complaint narrative</th>\n    </tr>\n  </thead>\n  <tbody>\n    <tr>\n      <th>1</th>\n      <td>Credit Report</td>\n      <td>In accordance with the fair credit reporting a...</td>\n    </tr>\n    <tr>\n      <th>2</th>\n      <td>Credit Report</td>\n      <td>This is not a duplicate nor is this complaint ...</td>\n    </tr>\n    <tr>\n      <th>81</th>\n      <td>Credit Report</td>\n      <td>It has come to my attention. That my personal ...</td>\n    </tr>\n    <tr>\n      <th>82</th>\n      <td>Credit Report</td>\n      <td>The Federal Trade Commission Bureau of Consume...</td>\n    </tr>\n    <tr>\n      <th>86</th>\n      <td>Credit Report</td>\n      <td>There were several inaccurate personal informa...</td>\n    </tr>\n    <tr>\n      <th>...</th>\n      <td>...</td>\n      <td>...</td>\n    </tr>\n    <tr>\n      <th>3093130</th>\n      <td>Card</td>\n      <td>Automated calls from \" XXXX with Capital One '...</td>\n    </tr>\n    <tr>\n      <th>3093131</th>\n      <td>Others</td>\n      <td>I have disputed my debts several times with no...</td>\n    </tr>\n    <tr>\n      <th>3093132</th>\n      <td>Others</td>\n      <td>My father died in XX/XX/XXXX. Left me his only...</td>\n    </tr>\n    <tr>\n      <th>3093133</th>\n      <td>Credit Report</td>\n      <td>cfbp i would Like to file a complaint on Exper...</td>\n    </tr>\n    <tr>\n      <th>3093134</th>\n      <td>Credit Report</td>\n      <td>My husband and I are in the middle of an FHA S...</td>\n    </tr>\n  </tbody>\n</table>\n<p>1111330 rows × 2 columns</p>\n</div>"
          },
          "metadata": {}
        }
      ],
      "execution_count": null
    },
    {
      "cell_type": "code",
      "source": [
        "df[\"Product\"].value_counts()/len(df)*100"
      ],
      "metadata": {
        "trusted": true,
        "execution": {
          "iopub.status.busy": "2024-12-03T13:24:31.355844Z",
          "iopub.execute_input": "2024-12-03T13:24:31.356115Z",
          "iopub.status.idle": "2024-12-03T13:24:31.412585Z",
          "shell.execute_reply.started": "2024-12-03T13:24:31.356089Z",
          "shell.execute_reply": "2024-12-03T13:24:31.411732Z"
        },
        "id": "ERNIlE0PvckX",
        "outputId": "acef507b-9d33-4068-8412-3fd938021b51"
      },
      "outputs": [
        {
          "execution_count": 18,
          "output_type": "execute_result",
          "data": {
            "text/plain": "Product\nCredit Report    49.057976\nOthers           30.920609\nCard              9.176932\nLoan              6.955180\nServices          3.889304\nName: count, dtype: float64"
          },
          "metadata": {}
        }
      ],
      "execution_count": null
    },
    {
      "cell_type": "code",
      "source": [
        "import re"
      ],
      "metadata": {
        "trusted": true,
        "execution": {
          "iopub.status.busy": "2024-12-03T13:24:31.413599Z",
          "iopub.execute_input": "2024-12-03T13:24:31.413839Z",
          "iopub.status.idle": "2024-12-03T13:24:31.419866Z",
          "shell.execute_reply.started": "2024-12-03T13:24:31.413815Z",
          "shell.execute_reply": "2024-12-03T13:24:31.419016Z"
        },
        "id": "7DGh44K-vckY"
      },
      "outputs": [],
      "execution_count": null
    },
    {
      "cell_type": "code",
      "source": [
        "def preprocessing_text(complaint):\n",
        "    complaint = complaint.lower()\n",
        "\n",
        "    # Remove special characters and digits\n",
        "    complaint = re.sub(r'[^a-zA-Z\\s]', '', complaint)\n",
        "    complaint = re.sub(r'[x]{2,}', '', complaint)\n",
        "    return complaint\n",
        "\n",
        ""
      ],
      "metadata": {
        "trusted": true,
        "execution": {
          "iopub.status.busy": "2024-12-03T13:24:31.420913Z",
          "iopub.execute_input": "2024-12-03T13:24:31.421144Z",
          "iopub.status.idle": "2024-12-03T13:24:31.429311Z",
          "shell.execute_reply.started": "2024-12-03T13:24:31.421121Z",
          "shell.execute_reply": "2024-12-03T13:24:31.428432Z"
        },
        "id": "B_p20nwcvckY"
      },
      "outputs": [],
      "execution_count": null
    },
    {
      "cell_type": "code",
      "source": [
        "df[\"Consumer complaint narrative\"]=df[\"Consumer complaint narrative\"].apply(preprocessing_text)"
      ],
      "metadata": {
        "trusted": true,
        "execution": {
          "iopub.status.busy": "2024-12-03T13:24:31.430138Z",
          "iopub.execute_input": "2024-12-03T13:24:31.4304Z",
          "iopub.status.idle": "2024-12-03T13:25:09.974247Z",
          "shell.execute_reply.started": "2024-12-03T13:24:31.430375Z",
          "shell.execute_reply": "2024-12-03T13:25:09.973285Z"
        },
        "id": "xKsnyBgSvckY"
      },
      "outputs": [],
      "execution_count": null
    },
    {
      "cell_type": "code",
      "source": [
        "df[\"Consumer complaint narrative\"].iloc[0]"
      ],
      "metadata": {
        "trusted": true,
        "execution": {
          "iopub.status.busy": "2024-12-03T13:25:09.97554Z",
          "iopub.execute_input": "2024-12-03T13:25:09.976165Z",
          "iopub.status.idle": "2024-12-03T13:25:09.982782Z",
          "shell.execute_reply.started": "2024-12-03T13:25:09.976124Z",
          "shell.execute_reply": "2024-12-03T13:25:09.981753Z"
        },
        "id": "RJaOPYRIvckY",
        "outputId": "6ea941a6-fa25-4eff-a289-18b2b6d7f697"
      },
      "outputs": [
        {
          "execution_count": 22,
          "output_type": "execute_result",
          "data": {
            "text/plain": "'in accordance with the fair credit reporting act   account                                                                                                 has violated my rights usc section  a states that i have a right to my privacy   usc  section  a section  states a consumer reporting company can not furnish an account without my written instructions which i have never given'"
          },
          "metadata": {}
        }
      ],
      "execution_count": null
    },
    {
      "cell_type": "code",
      "source": [
        "df[\"Product\"].value_counts()"
      ],
      "metadata": {
        "trusted": true,
        "execution": {
          "iopub.status.busy": "2024-12-03T13:25:09.9839Z",
          "iopub.execute_input": "2024-12-03T13:25:09.984242Z",
          "iopub.status.idle": "2024-12-03T13:25:10.057604Z",
          "shell.execute_reply.started": "2024-12-03T13:25:09.984191Z",
          "shell.execute_reply": "2024-12-03T13:25:10.05671Z"
        },
        "id": "HGm9I35bvckZ",
        "outputId": "b4d6eeb5-a166-4355-d2d9-9fe72214ab1f"
      },
      "outputs": [
        {
          "execution_count": 23,
          "output_type": "execute_result",
          "data": {
            "text/plain": "Product\nCredit Report    545196\nOthers           343630\nCard             101986\nLoan              77295\nServices          43223\nName: count, dtype: int64"
          },
          "metadata": {}
        }
      ],
      "execution_count": null
    },
    {
      "cell_type": "code",
      "source": [
        "df[\"Product\"].value_counts(normalize=True)"
      ],
      "metadata": {
        "trusted": true,
        "execution": {
          "iopub.status.busy": "2024-12-03T13:25:10.058822Z",
          "iopub.execute_input": "2024-12-03T13:25:10.059142Z",
          "iopub.status.idle": "2024-12-03T13:25:10.128105Z",
          "shell.execute_reply.started": "2024-12-03T13:25:10.059108Z",
          "shell.execute_reply": "2024-12-03T13:25:10.12709Z"
        },
        "id": "8FQpsaSlvckZ",
        "outputId": "10391419-6d33-44e4-c8b7-4a4ad2dbb72b"
      },
      "outputs": [
        {
          "execution_count": 24,
          "output_type": "execute_result",
          "data": {
            "text/plain": "Product\nCredit Report    0.490580\nOthers           0.309206\nCard             0.091769\nLoan             0.069552\nServices         0.038893\nName: proportion, dtype: float64"
          },
          "metadata": {}
        }
      ],
      "execution_count": null
    },
    {
      "cell_type": "code",
      "source": [
        "# Create an empty DataFrame to store sampled data\n",
        "sampled_df = pd.DataFrame()\n",
        "\n",
        "# Loop through unique labels in the \"Product\" column\n",
        "for label in df[\"Product\"].unique():\n",
        "    # Filter rows matching the current label\n",
        "    label_df = df[df[\"Product\"] == label]\n",
        "\n",
        "    sampled_df = pd.concat([sampled_df,label_df.sample(1000)],ignore_index=True)\n"
      ],
      "metadata": {
        "trusted": true,
        "execution": {
          "iopub.status.busy": "2024-12-03T13:25:10.129482Z",
          "iopub.execute_input": "2024-12-03T13:25:10.129839Z",
          "iopub.status.idle": "2024-12-03T13:25:10.698356Z",
          "shell.execute_reply.started": "2024-12-03T13:25:10.129801Z",
          "shell.execute_reply": "2024-12-03T13:25:10.697384Z"
        },
        "id": "O2wAipvsvckZ"
      },
      "outputs": [],
      "execution_count": null
    },
    {
      "cell_type": "code",
      "source": [
        "sampled_df"
      ],
      "metadata": {
        "trusted": true,
        "execution": {
          "iopub.status.busy": "2024-12-03T13:25:10.699566Z",
          "iopub.execute_input": "2024-12-03T13:25:10.699961Z",
          "iopub.status.idle": "2024-12-03T13:25:10.709864Z",
          "shell.execute_reply.started": "2024-12-03T13:25:10.699919Z",
          "shell.execute_reply": "2024-12-03T13:25:10.708829Z"
        },
        "id": "vGhVaMZVvcka",
        "outputId": "d53fd058-7cb6-4531-a8cd-22aa1d482130"
      },
      "outputs": [
        {
          "execution_count": 26,
          "output_type": "execute_result",
          "data": {
            "text/plain": "            Product                       Consumer complaint narrative\n0     Credit Report  i have written citibank twice they say that th...\n1     Credit Report   account student loan  high credit  paid in fu...\n2     Credit Report  i have disputed a collection from    a total o...\n3     Credit Report  company refused to accept payment to close the...\n4     Credit Report  so i currently purchased credit repair softwar...\n...             ...                                                ...\n4995           Loan  navient currently i am under an income driven ...\n4996           Loan  im in the  i got this car for   arp which the ...\n4997           Loan  i submitted a payment in the amount of  on  st...\n4998           Loan  i attended college from  through and got a pri...\n4999           Loan  in  or  i borrowed from   so that i could atte...\n\n[5000 rows x 2 columns]",
            "text/html": "<div>\n<style scoped>\n    .dataframe tbody tr th:only-of-type {\n        vertical-align: middle;\n    }\n\n    .dataframe tbody tr th {\n        vertical-align: top;\n    }\n\n    .dataframe thead th {\n        text-align: right;\n    }\n</style>\n<table border=\"1\" class=\"dataframe\">\n  <thead>\n    <tr style=\"text-align: right;\">\n      <th></th>\n      <th>Product</th>\n      <th>Consumer complaint narrative</th>\n    </tr>\n  </thead>\n  <tbody>\n    <tr>\n      <th>0</th>\n      <td>Credit Report</td>\n      <td>i have written citibank twice they say that th...</td>\n    </tr>\n    <tr>\n      <th>1</th>\n      <td>Credit Report</td>\n      <td>account student loan  high credit  paid in fu...</td>\n    </tr>\n    <tr>\n      <th>2</th>\n      <td>Credit Report</td>\n      <td>i have disputed a collection from    a total o...</td>\n    </tr>\n    <tr>\n      <th>3</th>\n      <td>Credit Report</td>\n      <td>company refused to accept payment to close the...</td>\n    </tr>\n    <tr>\n      <th>4</th>\n      <td>Credit Report</td>\n      <td>so i currently purchased credit repair softwar...</td>\n    </tr>\n    <tr>\n      <th>...</th>\n      <td>...</td>\n      <td>...</td>\n    </tr>\n    <tr>\n      <th>4995</th>\n      <td>Loan</td>\n      <td>navient currently i am under an income driven ...</td>\n    </tr>\n    <tr>\n      <th>4996</th>\n      <td>Loan</td>\n      <td>im in the  i got this car for   arp which the ...</td>\n    </tr>\n    <tr>\n      <th>4997</th>\n      <td>Loan</td>\n      <td>i submitted a payment in the amount of  on  st...</td>\n    </tr>\n    <tr>\n      <th>4998</th>\n      <td>Loan</td>\n      <td>i attended college from  through and got a pri...</td>\n    </tr>\n    <tr>\n      <th>4999</th>\n      <td>Loan</td>\n      <td>in  or  i borrowed from   so that i could atte...</td>\n    </tr>\n  </tbody>\n</table>\n<p>5000 rows × 2 columns</p>\n</div>"
          },
          "metadata": {}
        }
      ],
      "execution_count": null
    },
    {
      "cell_type": "code",
      "source": [
        "sampled_df[\"Product\"].unique()"
      ],
      "metadata": {
        "trusted": true,
        "execution": {
          "iopub.status.busy": "2024-12-03T13:25:10.711086Z",
          "iopub.execute_input": "2024-12-03T13:25:10.711459Z",
          "iopub.status.idle": "2024-12-03T13:25:10.721826Z",
          "shell.execute_reply.started": "2024-12-03T13:25:10.711422Z",
          "shell.execute_reply": "2024-12-03T13:25:10.720811Z"
        },
        "id": "YSlirw_Pvcka",
        "outputId": "82dafb14-d43b-4e40-bd44-3dc9d7aea6d1"
      },
      "outputs": [
        {
          "execution_count": 27,
          "output_type": "execute_result",
          "data": {
            "text/plain": "array(['Credit Report', 'Others', 'Services', 'Card', 'Loan'],\n      dtype=object)"
          },
          "metadata": {}
        }
      ],
      "execution_count": null
    },
    {
      "cell_type": "code",
      "source": [
        "mapping_dict = {\n",
        "    'Credit Report': 0,\n",
        "    'Others': 1,\n",
        "    'Services': 2,\n",
        "    'Card': 3,\n",
        "    'Loan': 4\n",
        "}\n"
      ],
      "metadata": {
        "trusted": true,
        "execution": {
          "iopub.status.busy": "2024-12-03T13:25:10.727434Z",
          "iopub.execute_input": "2024-12-03T13:25:10.727681Z",
          "iopub.status.idle": "2024-12-03T13:25:10.732616Z",
          "shell.execute_reply.started": "2024-12-03T13:25:10.727656Z",
          "shell.execute_reply": "2024-12-03T13:25:10.731581Z"
        },
        "id": "wqVIydXHvcka"
      },
      "outputs": [],
      "execution_count": null
    },
    {
      "cell_type": "code",
      "source": [
        "sampled_df.replace({\"Product\": mapping_dict},inplace=True)"
      ],
      "metadata": {
        "trusted": true,
        "execution": {
          "iopub.status.busy": "2024-12-03T13:25:10.733661Z",
          "iopub.execute_input": "2024-12-03T13:25:10.73398Z",
          "iopub.status.idle": "2024-12-03T13:25:10.748884Z",
          "shell.execute_reply.started": "2024-12-03T13:25:10.733941Z",
          "shell.execute_reply": "2024-12-03T13:25:10.748009Z"
        },
        "id": "fOJN6CGOvckb",
        "outputId": "2aaaf95c-7f95-402c-f87e-a2580efee9bc"
      },
      "outputs": [
        {
          "name": "stderr",
          "text": "/tmp/ipykernel_30/698514195.py:1: FutureWarning: Downcasting behavior in `replace` is deprecated and will be removed in a future version. To retain the old behavior, explicitly call `result.infer_objects(copy=False)`. To opt-in to the future behavior, set `pd.set_option('future.no_silent_downcasting', True)`\n  sampled_df.replace({\"Product\": mapping_dict},inplace=True)\n",
          "output_type": "stream"
        }
      ],
      "execution_count": null
    },
    {
      "cell_type": "code",
      "source": [
        "sampled_df.columns=['label', 'Complaint']"
      ],
      "metadata": {
        "trusted": true,
        "execution": {
          "iopub.status.busy": "2024-12-03T13:25:10.75013Z",
          "iopub.execute_input": "2024-12-03T13:25:10.750458Z",
          "iopub.status.idle": "2024-12-03T13:25:10.755172Z",
          "shell.execute_reply.started": "2024-12-03T13:25:10.750422Z",
          "shell.execute_reply": "2024-12-03T13:25:10.754265Z"
        },
        "id": "dYrDffJ-vckb"
      },
      "outputs": [],
      "execution_count": null
    },
    {
      "cell_type": "code",
      "source": [
        "sampled_df.head()"
      ],
      "metadata": {
        "trusted": true,
        "execution": {
          "iopub.status.busy": "2024-12-03T13:25:10.756199Z",
          "iopub.execute_input": "2024-12-03T13:25:10.756513Z",
          "iopub.status.idle": "2024-12-03T13:25:10.768712Z",
          "shell.execute_reply.started": "2024-12-03T13:25:10.756477Z",
          "shell.execute_reply": "2024-12-03T13:25:10.767861Z"
        },
        "id": "J2DP6wRYvckb",
        "outputId": "16fd1740-7bcb-4a10-fa8c-5bf09d98acb4"
      },
      "outputs": [
        {
          "execution_count": 31,
          "output_type": "execute_result",
          "data": {
            "text/plain": "   label                                          Complaint\n0      0  i have written citibank twice they say that th...\n1      0   account student loan  high credit  paid in fu...\n2      0  i have disputed a collection from    a total o...\n3      0  company refused to accept payment to close the...\n4      0  so i currently purchased credit repair softwar...",
            "text/html": "<div>\n<style scoped>\n    .dataframe tbody tr th:only-of-type {\n        vertical-align: middle;\n    }\n\n    .dataframe tbody tr th {\n        vertical-align: top;\n    }\n\n    .dataframe thead th {\n        text-align: right;\n    }\n</style>\n<table border=\"1\" class=\"dataframe\">\n  <thead>\n    <tr style=\"text-align: right;\">\n      <th></th>\n      <th>label</th>\n      <th>Complaint</th>\n    </tr>\n  </thead>\n  <tbody>\n    <tr>\n      <th>0</th>\n      <td>0</td>\n      <td>i have written citibank twice they say that th...</td>\n    </tr>\n    <tr>\n      <th>1</th>\n      <td>0</td>\n      <td>account student loan  high credit  paid in fu...</td>\n    </tr>\n    <tr>\n      <th>2</th>\n      <td>0</td>\n      <td>i have disputed a collection from    a total o...</td>\n    </tr>\n    <tr>\n      <th>3</th>\n      <td>0</td>\n      <td>company refused to accept payment to close the...</td>\n    </tr>\n    <tr>\n      <th>4</th>\n      <td>0</td>\n      <td>so i currently purchased credit repair softwar...</td>\n    </tr>\n  </tbody>\n</table>\n</div>"
          },
          "metadata": {}
        }
      ],
      "execution_count": null
    },
    {
      "cell_type": "code",
      "source": [
        "sampled_df.to_csv(\"preprocessed_data.csv\",index=False)"
      ],
      "metadata": {
        "trusted": true,
        "execution": {
          "iopub.status.busy": "2024-12-03T13:25:10.769848Z",
          "iopub.execute_input": "2024-12-03T13:25:10.770178Z",
          "iopub.status.idle": "2024-12-03T13:25:10.90552Z",
          "shell.execute_reply.started": "2024-12-03T13:25:10.770142Z",
          "shell.execute_reply": "2024-12-03T13:25:10.904743Z"
        },
        "id": "N1OTUxtMvckc"
      },
      "outputs": [],
      "execution_count": null
    },
    {
      "cell_type": "code",
      "source": [
        "!pip install datasets"
      ],
      "metadata": {
        "trusted": true,
        "execution": {
          "iopub.status.busy": "2024-12-03T13:25:10.906628Z",
          "iopub.execute_input": "2024-12-03T13:25:10.906974Z",
          "iopub.status.idle": "2024-12-03T13:25:19.892758Z",
          "shell.execute_reply.started": "2024-12-03T13:25:10.906937Z",
          "shell.execute_reply": "2024-12-03T13:25:19.891688Z"
        },
        "id": "HJJVdEUMvckd",
        "outputId": "59369624-503f-4fb8-87f0-c3e937eb6570"
      },
      "outputs": [
        {
          "name": "stdout",
          "text": "Requirement already satisfied: datasets in /opt/conda/lib/python3.10/site-packages (3.0.1)\nRequirement already satisfied: filelock in /opt/conda/lib/python3.10/site-packages (from datasets) (3.15.1)\nRequirement already satisfied: numpy>=1.17 in /opt/conda/lib/python3.10/site-packages (from datasets) (1.26.4)\nRequirement already satisfied: pyarrow>=15.0.0 in /opt/conda/lib/python3.10/site-packages (from datasets) (16.1.0)\nRequirement already satisfied: dill<0.3.9,>=0.3.0 in /opt/conda/lib/python3.10/site-packages (from datasets) (0.3.8)\nRequirement already satisfied: pandas in /opt/conda/lib/python3.10/site-packages (from datasets) (2.2.2)\nRequirement already satisfied: requests>=2.32.2 in /opt/conda/lib/python3.10/site-packages (from datasets) (2.32.3)\nRequirement already satisfied: tqdm>=4.66.3 in /opt/conda/lib/python3.10/site-packages (from datasets) (4.66.4)\nRequirement already satisfied: xxhash in /opt/conda/lib/python3.10/site-packages (from datasets) (3.4.1)\nRequirement already satisfied: multiprocess in /opt/conda/lib/python3.10/site-packages (from datasets) (0.70.16)\nRequirement already satisfied: fsspec<=2024.6.1,>=2023.1.0 in /opt/conda/lib/python3.10/site-packages (from fsspec[http]<=2024.6.1,>=2023.1.0->datasets) (2024.6.1)\nRequirement already satisfied: aiohttp in /opt/conda/lib/python3.10/site-packages (from datasets) (3.9.5)\nRequirement already satisfied: huggingface-hub>=0.22.0 in /opt/conda/lib/python3.10/site-packages (from datasets) (0.25.1)\nRequirement already satisfied: packaging in /opt/conda/lib/python3.10/site-packages (from datasets) (21.3)\nRequirement already satisfied: pyyaml>=5.1 in /opt/conda/lib/python3.10/site-packages (from datasets) (6.0.2)\nRequirement already satisfied: aiosignal>=1.1.2 in /opt/conda/lib/python3.10/site-packages (from aiohttp->datasets) (1.3.1)\nRequirement already satisfied: attrs>=17.3.0 in /opt/conda/lib/python3.10/site-packages (from aiohttp->datasets) (23.2.0)\nRequirement already satisfied: frozenlist>=1.1.1 in /opt/conda/lib/python3.10/site-packages (from aiohttp->datasets) (1.4.1)\nRequirement already satisfied: multidict<7.0,>=4.5 in /opt/conda/lib/python3.10/site-packages (from aiohttp->datasets) (6.0.5)\nRequirement already satisfied: yarl<2.0,>=1.0 in /opt/conda/lib/python3.10/site-packages (from aiohttp->datasets) (1.9.4)\nRequirement already satisfied: async-timeout<5.0,>=4.0 in /opt/conda/lib/python3.10/site-packages (from aiohttp->datasets) (4.0.3)\nRequirement already satisfied: typing-extensions>=3.7.4.3 in /opt/conda/lib/python3.10/site-packages (from huggingface-hub>=0.22.0->datasets) (4.12.2)\nRequirement already satisfied: pyparsing!=3.0.5,>=2.0.2 in /opt/conda/lib/python3.10/site-packages (from packaging->datasets) (3.1.2)\nRequirement already satisfied: charset-normalizer<4,>=2 in /opt/conda/lib/python3.10/site-packages (from requests>=2.32.2->datasets) (3.3.2)\nRequirement already satisfied: idna<4,>=2.5 in /opt/conda/lib/python3.10/site-packages (from requests>=2.32.2->datasets) (3.7)\nRequirement already satisfied: urllib3<3,>=1.21.1 in /opt/conda/lib/python3.10/site-packages (from requests>=2.32.2->datasets) (1.26.18)\nRequirement already satisfied: certifi>=2017.4.17 in /opt/conda/lib/python3.10/site-packages (from requests>=2.32.2->datasets) (2024.8.30)\nRequirement already satisfied: python-dateutil>=2.8.2 in /opt/conda/lib/python3.10/site-packages (from pandas->datasets) (2.9.0.post0)\nRequirement already satisfied: pytz>=2020.1 in /opt/conda/lib/python3.10/site-packages (from pandas->datasets) (2024.1)\nRequirement already satisfied: tzdata>=2022.7 in /opt/conda/lib/python3.10/site-packages (from pandas->datasets) (2024.1)\nRequirement already satisfied: six>=1.5 in /opt/conda/lib/python3.10/site-packages (from python-dateutil>=2.8.2->pandas->datasets) (1.16.0)\n",
          "output_type": "stream"
        }
      ],
      "execution_count": null
    },
    {
      "cell_type": "code",
      "source": [
        " from datasets import load_dataset"
      ],
      "metadata": {
        "trusted": true,
        "execution": {
          "iopub.status.busy": "2024-12-03T13:25:19.894361Z",
          "iopub.execute_input": "2024-12-03T13:25:19.895203Z",
          "iopub.status.idle": "2024-12-03T13:25:20.734586Z",
          "shell.execute_reply.started": "2024-12-03T13:25:19.895157Z",
          "shell.execute_reply": "2024-12-03T13:25:20.733629Z"
        },
        "id": "Ukmhh6v2vckd"
      },
      "outputs": [],
      "execution_count": null
    },
    {
      "cell_type": "code",
      "source": [
        "from datasets import Dataset"
      ],
      "metadata": {
        "trusted": true,
        "execution": {
          "iopub.status.busy": "2024-12-03T13:25:20.735656Z",
          "iopub.execute_input": "2024-12-03T13:25:20.736018Z",
          "iopub.status.idle": "2024-12-03T13:25:20.739568Z",
          "shell.execute_reply.started": "2024-12-03T13:25:20.735991Z",
          "shell.execute_reply": "2024-12-03T13:25:20.738774Z"
        },
        "id": "Lj_5oWH_vcke"
      },
      "outputs": [],
      "execution_count": null
    },
    {
      "cell_type": "code",
      "source": [
        "data=Dataset.from_pandas(sampled_df)"
      ],
      "metadata": {
        "trusted": true,
        "execution": {
          "iopub.status.busy": "2024-12-03T13:25:20.74063Z",
          "iopub.execute_input": "2024-12-03T13:25:20.740865Z",
          "iopub.status.idle": "2024-12-03T13:25:20.801209Z",
          "shell.execute_reply.started": "2024-12-03T13:25:20.740842Z",
          "shell.execute_reply": "2024-12-03T13:25:20.800276Z"
        },
        "id": "lPhJdjscvcke"
      },
      "outputs": [],
      "execution_count": null
    },
    {
      "cell_type": "code",
      "source": [
        "data"
      ],
      "metadata": {
        "trusted": true,
        "execution": {
          "iopub.status.busy": "2024-12-03T13:25:20.802478Z",
          "iopub.execute_input": "2024-12-03T13:25:20.802767Z",
          "iopub.status.idle": "2024-12-03T13:25:20.80816Z",
          "shell.execute_reply.started": "2024-12-03T13:25:20.802742Z",
          "shell.execute_reply": "2024-12-03T13:25:20.807348Z"
        },
        "id": "-H8690Covckf",
        "outputId": "215a71e2-ab64-4f9b-8de7-649bb5abb028"
      },
      "outputs": [
        {
          "execution_count": 37,
          "output_type": "execute_result",
          "data": {
            "text/plain": "Dataset({\n    features: ['label', 'Complaint'],\n    num_rows: 5000\n})"
          },
          "metadata": {}
        }
      ],
      "execution_count": null
    },
    {
      "cell_type": "code",
      "source": [
        "train_test=data.train_test_split(test_size=0.2)"
      ],
      "metadata": {
        "trusted": true,
        "execution": {
          "iopub.status.busy": "2024-12-03T13:25:20.809267Z",
          "iopub.execute_input": "2024-12-03T13:25:20.80963Z",
          "iopub.status.idle": "2024-12-03T13:25:20.833889Z",
          "shell.execute_reply.started": "2024-12-03T13:25:20.809584Z",
          "shell.execute_reply": "2024-12-03T13:25:20.833309Z"
        },
        "id": "BV_oHdhfvckf"
      },
      "outputs": [],
      "execution_count": null
    },
    {
      "cell_type": "code",
      "source": [
        "train_test"
      ],
      "metadata": {
        "trusted": true,
        "execution": {
          "iopub.status.busy": "2024-12-03T13:25:20.834728Z",
          "iopub.execute_input": "2024-12-03T13:25:20.834968Z",
          "iopub.status.idle": "2024-12-03T13:25:20.84015Z",
          "shell.execute_reply.started": "2024-12-03T13:25:20.834944Z",
          "shell.execute_reply": "2024-12-03T13:25:20.83934Z"
        },
        "id": "Pj3AbZTavckl",
        "outputId": "7acee6ce-ae1e-4869-9049-222c26184f4c"
      },
      "outputs": [
        {
          "execution_count": 39,
          "output_type": "execute_result",
          "data": {
            "text/plain": "DatasetDict({\n    train: Dataset({\n        features: ['label', 'Complaint'],\n        num_rows: 4000\n    })\n    test: Dataset({\n        features: ['label', 'Complaint'],\n        num_rows: 1000\n    })\n})"
          },
          "metadata": {}
        }
      ],
      "execution_count": null
    },
    {
      "cell_type": "code",
      "source": [
        "from transformers import AutoTokenizer, AutoModelForSequenceClassification"
      ],
      "metadata": {
        "trusted": true,
        "execution": {
          "iopub.status.busy": "2024-12-03T13:25:20.841285Z",
          "iopub.execute_input": "2024-12-03T13:25:20.841753Z",
          "iopub.status.idle": "2024-12-03T13:25:24.676136Z",
          "shell.execute_reply.started": "2024-12-03T13:25:20.841713Z",
          "shell.execute_reply": "2024-12-03T13:25:24.675469Z"
        },
        "id": "ZgN_SY3avckl"
      },
      "outputs": [],
      "execution_count": null
    },
    {
      "cell_type": "code",
      "source": [
        "model_name = \"bert-base-uncased\""
      ],
      "metadata": {
        "trusted": true,
        "execution": {
          "iopub.status.busy": "2024-12-03T13:25:24.67704Z",
          "iopub.execute_input": "2024-12-03T13:25:24.677464Z",
          "iopub.status.idle": "2024-12-03T13:25:24.681258Z",
          "shell.execute_reply.started": "2024-12-03T13:25:24.677436Z",
          "shell.execute_reply": "2024-12-03T13:25:24.680538Z"
        },
        "id": "-rzUGfF0vckm"
      },
      "outputs": [],
      "execution_count": null
    },
    {
      "cell_type": "code",
      "source": [
        "tokenizer = AutoTokenizer.from_pretrained(model_name)"
      ],
      "metadata": {
        "trusted": true,
        "execution": {
          "iopub.status.busy": "2024-12-03T13:25:24.682355Z",
          "iopub.execute_input": "2024-12-03T13:25:24.68268Z",
          "iopub.status.idle": "2024-12-03T13:25:25.401262Z",
          "shell.execute_reply.started": "2024-12-03T13:25:24.682642Z",
          "shell.execute_reply": "2024-12-03T13:25:25.400362Z"
        },
        "id": "g2OByJ6bvckm",
        "outputId": "7904d721-4e36-4d21-8f68-d988ce9d794f",
        "colab": {
          "referenced_widgets": [
            "c96bd196fde54a48b5ffbb5747a07b2c",
            "c6d0b9c9b4334523a8b3ffd2a5242ecb",
            "1504b19b6806424fb00b4d99c03e303e",
            "83772ac6a9c54f6690365855e6a44bf7"
          ]
        }
      },
      "outputs": [
        {
          "output_type": "display_data",
          "data": {
            "text/plain": "tokenizer_config.json:   0%|          | 0.00/48.0 [00:00<?, ?B/s]",
            "application/vnd.jupyter.widget-view+json": {
              "version_major": 2,
              "version_minor": 0,
              "model_id": "c96bd196fde54a48b5ffbb5747a07b2c"
            }
          },
          "metadata": {}
        },
        {
          "output_type": "display_data",
          "data": {
            "text/plain": "config.json:   0%|          | 0.00/570 [00:00<?, ?B/s]",
            "application/vnd.jupyter.widget-view+json": {
              "version_major": 2,
              "version_minor": 0,
              "model_id": "c6d0b9c9b4334523a8b3ffd2a5242ecb"
            }
          },
          "metadata": {}
        },
        {
          "output_type": "display_data",
          "data": {
            "text/plain": "vocab.txt:   0%|          | 0.00/232k [00:00<?, ?B/s]",
            "application/vnd.jupyter.widget-view+json": {
              "version_major": 2,
              "version_minor": 0,
              "model_id": "1504b19b6806424fb00b4d99c03e303e"
            }
          },
          "metadata": {}
        },
        {
          "output_type": "display_data",
          "data": {
            "text/plain": "tokenizer.json:   0%|          | 0.00/466k [00:00<?, ?B/s]",
            "application/vnd.jupyter.widget-view+json": {
              "version_major": 2,
              "version_minor": 0,
              "model_id": "83772ac6a9c54f6690365855e6a44bf7"
            }
          },
          "metadata": {}
        },
        {
          "name": "stderr",
          "text": "/opt/conda/lib/python3.10/site-packages/transformers/tokenization_utils_base.py:1617: FutureWarning: `clean_up_tokenization_spaces` was not set. It will be set to `True` by default. This behavior will be deprecated in transformers v4.45, and will be then set to `False` by default. For more details check this issue: https://github.com/huggingface/transformers/issues/31884\n  warnings.warn(\n",
          "output_type": "stream"
        }
      ],
      "execution_count": null
    },
    {
      "cell_type": "code",
      "source": [
        "model = AutoModelForSequenceClassification.from_pretrained(model_name, num_labels=5)"
      ],
      "metadata": {
        "trusted": true,
        "execution": {
          "iopub.status.busy": "2024-12-03T13:25:25.402262Z",
          "iopub.execute_input": "2024-12-03T13:25:25.402575Z",
          "iopub.status.idle": "2024-12-03T13:25:28.934596Z",
          "shell.execute_reply.started": "2024-12-03T13:25:25.402547Z",
          "shell.execute_reply": "2024-12-03T13:25:28.933976Z"
        },
        "id": "tFBYcrlmvckm",
        "outputId": "07ac403c-23d6-463b-cdf8-ecd41eff4b8e",
        "colab": {
          "referenced_widgets": [
            "70cd44386ac5439785bda44dddabbb24"
          ]
        }
      },
      "outputs": [
        {
          "output_type": "display_data",
          "data": {
            "text/plain": "model.safetensors:   0%|          | 0.00/440M [00:00<?, ?B/s]",
            "application/vnd.jupyter.widget-view+json": {
              "version_major": 2,
              "version_minor": 0,
              "model_id": "70cd44386ac5439785bda44dddabbb24"
            }
          },
          "metadata": {}
        },
        {
          "name": "stderr",
          "text": "Some weights of BertForSequenceClassification were not initialized from the model checkpoint at bert-base-uncased and are newly initialized: ['classifier.bias', 'classifier.weight']\nYou should probably TRAIN this model on a down-stream task to be able to use it for predictions and inference.\n",
          "output_type": "stream"
        }
      ],
      "execution_count": null
    },
    {
      "cell_type": "code",
      "source": [
        "model.config"
      ],
      "metadata": {
        "trusted": true,
        "execution": {
          "iopub.status.busy": "2024-12-03T13:25:28.935598Z",
          "iopub.execute_input": "2024-12-03T13:25:28.935998Z",
          "iopub.status.idle": "2024-12-03T13:25:28.942467Z",
          "shell.execute_reply.started": "2024-12-03T13:25:28.93597Z",
          "shell.execute_reply": "2024-12-03T13:25:28.941567Z"
        },
        "id": "gUKlDSaNvckm",
        "outputId": "c7a522a5-e261-47a8-9c96-4e4524bf90da"
      },
      "outputs": [
        {
          "execution_count": 44,
          "output_type": "execute_result",
          "data": {
            "text/plain": "BertConfig {\n  \"_name_or_path\": \"bert-base-uncased\",\n  \"architectures\": [\n    \"BertForMaskedLM\"\n  ],\n  \"attention_probs_dropout_prob\": 0.1,\n  \"classifier_dropout\": null,\n  \"gradient_checkpointing\": false,\n  \"hidden_act\": \"gelu\",\n  \"hidden_dropout_prob\": 0.1,\n  \"hidden_size\": 768,\n  \"id2label\": {\n    \"0\": \"LABEL_0\",\n    \"1\": \"LABEL_1\",\n    \"2\": \"LABEL_2\",\n    \"3\": \"LABEL_3\",\n    \"4\": \"LABEL_4\"\n  },\n  \"initializer_range\": 0.02,\n  \"intermediate_size\": 3072,\n  \"label2id\": {\n    \"LABEL_0\": 0,\n    \"LABEL_1\": 1,\n    \"LABEL_2\": 2,\n    \"LABEL_3\": 3,\n    \"LABEL_4\": 4\n  },\n  \"layer_norm_eps\": 1e-12,\n  \"max_position_embeddings\": 512,\n  \"model_type\": \"bert\",\n  \"num_attention_heads\": 12,\n  \"num_hidden_layers\": 12,\n  \"pad_token_id\": 0,\n  \"position_embedding_type\": \"absolute\",\n  \"transformers_version\": \"4.45.1\",\n  \"type_vocab_size\": 2,\n  \"use_cache\": true,\n  \"vocab_size\": 30522\n}"
          },
          "metadata": {}
        }
      ],
      "execution_count": null
    },
    {
      "cell_type": "code",
      "source": [
        "def tokenize(batch):\n",
        "  return tokenizer(batch['Complaint'], max_length=500)"
      ],
      "metadata": {
        "trusted": true,
        "execution": {
          "iopub.status.busy": "2024-12-03T13:25:28.943554Z",
          "iopub.execute_input": "2024-12-03T13:25:28.943887Z",
          "iopub.status.idle": "2024-12-03T13:25:28.951698Z",
          "shell.execute_reply.started": "2024-12-03T13:25:28.94384Z",
          "shell.execute_reply": "2024-12-03T13:25:28.950951Z"
        },
        "id": "OvkN0JSlvckn"
      },
      "outputs": [],
      "execution_count": null
    },
    {
      "cell_type": "code",
      "source": [
        "tokenized_data = train_test.map(tokenize, batched=True)    #Loads data in the ram in batches"
      ],
      "metadata": {
        "trusted": true,
        "execution": {
          "iopub.status.busy": "2024-12-03T13:25:28.952703Z",
          "iopub.execute_input": "2024-12-03T13:25:28.953044Z",
          "iopub.status.idle": "2024-12-03T13:25:30.936717Z",
          "shell.execute_reply.started": "2024-12-03T13:25:28.953005Z",
          "shell.execute_reply": "2024-12-03T13:25:30.93583Z"
        },
        "id": "jc5hCrSzvckn",
        "outputId": "c2456ef0-cfb2-47e4-b2d4-7342e6a71704",
        "colab": {
          "referenced_widgets": [
            "f6db61b7936d42279794ed579cb92b06",
            "55671e2653a5457eb9194903d1355fa0"
          ]
        }
      },
      "outputs": [
        {
          "output_type": "display_data",
          "data": {
            "text/plain": "Map:   0%|          | 0/4000 [00:00<?, ? examples/s]",
            "application/vnd.jupyter.widget-view+json": {
              "version_major": 2,
              "version_minor": 0,
              "model_id": "f6db61b7936d42279794ed579cb92b06"
            }
          },
          "metadata": {}
        },
        {
          "name": "stderr",
          "text": "Truncation was not explicitly activated but `max_length` is provided a specific value, please use `truncation=True` to explicitly truncate examples to max length. Defaulting to 'longest_first' truncation strategy. If you encode pairs of sequences (GLUE-style) with the tokenizer you can select this strategy more precisely by providing a specific strategy to `truncation`.\n",
          "output_type": "stream"
        },
        {
          "output_type": "display_data",
          "data": {
            "text/plain": "Map:   0%|          | 0/1000 [00:00<?, ? examples/s]",
            "application/vnd.jupyter.widget-view+json": {
              "version_major": 2,
              "version_minor": 0,
              "model_id": "55671e2653a5457eb9194903d1355fa0"
            }
          },
          "metadata": {}
        }
      ],
      "execution_count": null
    },
    {
      "cell_type": "code",
      "source": [
        "tokenized_data"
      ],
      "metadata": {
        "trusted": true,
        "execution": {
          "iopub.status.busy": "2024-12-03T13:25:30.937905Z",
          "iopub.execute_input": "2024-12-03T13:25:30.938391Z",
          "iopub.status.idle": "2024-12-03T13:25:30.944323Z",
          "shell.execute_reply.started": "2024-12-03T13:25:30.938348Z",
          "shell.execute_reply": "2024-12-03T13:25:30.943506Z"
        },
        "id": "0JWclR8Rvckn",
        "outputId": "a6e4b825-862f-433b-8c30-e81b3d0bb3bc"
      },
      "outputs": [
        {
          "execution_count": 47,
          "output_type": "execute_result",
          "data": {
            "text/plain": "DatasetDict({\n    train: Dataset({\n        features: ['label', 'Complaint', 'input_ids', 'token_type_ids', 'attention_mask'],\n        num_rows: 4000\n    })\n    test: Dataset({\n        features: ['label', 'Complaint', 'input_ids', 'token_type_ids', 'attention_mask'],\n        num_rows: 1000\n    })\n})"
          },
          "metadata": {}
        }
      ],
      "execution_count": null
    },
    {
      "cell_type": "code",
      "source": [
        "from transformers import Trainer, TrainingArguments"
      ],
      "metadata": {
        "trusted": true,
        "execution": {
          "iopub.status.busy": "2024-12-03T13:25:30.945479Z",
          "iopub.execute_input": "2024-12-03T13:25:30.945816Z",
          "iopub.status.idle": "2024-12-03T13:25:42.264377Z",
          "shell.execute_reply.started": "2024-12-03T13:25:30.945779Z",
          "shell.execute_reply": "2024-12-03T13:25:42.263474Z"
        },
        "id": "FyhI0TRGvcko"
      },
      "outputs": [],
      "execution_count": null
    },
    {
      "cell_type": "code",
      "source": [
        "training_args = TrainingArguments(output_dir=\"output\",\n",
        "                                  eval_strategy=\"epoch\",\n",
        "                                  num_train_epochs=2)"
      ],
      "metadata": {
        "trusted": true,
        "execution": {
          "iopub.status.busy": "2024-12-03T13:25:42.265587Z",
          "iopub.execute_input": "2024-12-03T13:25:42.266107Z",
          "iopub.status.idle": "2024-12-03T13:25:42.37619Z",
          "shell.execute_reply.started": "2024-12-03T13:25:42.266079Z",
          "shell.execute_reply": "2024-12-03T13:25:42.375278Z"
        },
        "id": "STfwDL_wvcko"
      },
      "outputs": [],
      "execution_count": null
    },
    {
      "cell_type": "code",
      "source": [
        "def compute_metrics(logits_labels):\n",
        "  logits, labels = logits_labels\n",
        "  predictions = np.argmax(logits, axis=-1)\n",
        "  acc = np.mean(predictions == labels)\n",
        "  return {\"accuracy\" : acc}"
      ],
      "metadata": {
        "trusted": true,
        "execution": {
          "iopub.status.busy": "2024-12-03T13:25:42.377323Z",
          "iopub.execute_input": "2024-12-03T13:25:42.377619Z",
          "iopub.status.idle": "2024-12-03T13:25:42.382114Z",
          "shell.execute_reply.started": "2024-12-03T13:25:42.377586Z",
          "shell.execute_reply": "2024-12-03T13:25:42.381219Z"
        },
        "id": "7gugBZSJvcko"
      },
      "outputs": [],
      "execution_count": null
    },
    {
      "cell_type": "code",
      "source": [
        "trainer = Trainer(model,\n",
        "                  training_args,\n",
        "                  train_dataset = tokenized_data[\"train\"],\n",
        "                  eval_dataset=tokenized_data[\"test\"],\n",
        "                  tokenizer=tokenizer,\n",
        "                  compute_metrics=compute_metrics)"
      ],
      "metadata": {
        "trusted": true,
        "execution": {
          "iopub.status.busy": "2024-12-03T13:25:42.383563Z",
          "iopub.execute_input": "2024-12-03T13:25:42.383808Z",
          "iopub.status.idle": "2024-12-03T13:25:43.397863Z",
          "shell.execute_reply.started": "2024-12-03T13:25:42.383785Z",
          "shell.execute_reply": "2024-12-03T13:25:43.396971Z"
        },
        "id": "tz14SxdEvcko"
      },
      "outputs": [],
      "execution_count": null
    },
    {
      "cell_type": "code",
      "source": [
        "trainer.train()"
      ],
      "metadata": {
        "trusted": true,
        "execution": {
          "iopub.status.busy": "2024-12-03T13:25:43.398947Z",
          "iopub.execute_input": "2024-12-03T13:25:43.399211Z",
          "iopub.status.idle": "2024-12-03T13:34:14.692622Z",
          "shell.execute_reply.started": "2024-12-03T13:25:43.399186Z",
          "shell.execute_reply": "2024-12-03T13:34:14.691482Z"
        },
        "id": "rmmZbFuSvckp",
        "outputId": "1f32b11d-eead-4918-f154-327acee7faaa",
        "colab": {
          "referenced_widgets": [
            "398f9f6d323c46c68b2cc22fa6dc722c"
          ]
        }
      },
      "outputs": [
        {
          "name": "stderr",
          "text": "\u001b[34m\u001b[1mwandb\u001b[0m: \u001b[33mWARNING\u001b[0m The `run_name` is currently set to the same value as `TrainingArguments.output_dir`. If this was not intended, please specify a different run name by setting the `TrainingArguments.run_name` parameter.\n\u001b[34m\u001b[1mwandb\u001b[0m: Using wandb-core as the SDK backend. Please refer to https://wandb.me/wandb-core for more information.\n\u001b[34m\u001b[1mwandb\u001b[0m: Logging into wandb.ai. (Learn how to deploy a W&B server locally: https://wandb.me/wandb-server)\n\u001b[34m\u001b[1mwandb\u001b[0m: You can find your API key in your browser here: https://wandb.ai/authorize\n\u001b[34m\u001b[1mwandb\u001b[0m: Paste an API key from your profile and hit enter, or press ctrl+c to quit:",
          "output_type": "stream"
        },
        {
          "output_type": "stream",
          "name": "stdin",
          "text": "  ········\n"
        },
        {
          "name": "stderr",
          "text": "\u001b[34m\u001b[1mwandb\u001b[0m: Appending key for api.wandb.ai to your netrc file: /root/.netrc\n",
          "output_type": "stream"
        },
        {
          "output_type": "display_data",
          "data": {
            "text/plain": "VBox(children=(Label(value='Waiting for wandb.init()...\\r'), FloatProgress(value=0.011113549966666546, max=1.0…",
            "application/vnd.jupyter.widget-view+json": {
              "version_major": 2,
              "version_minor": 0,
              "model_id": "398f9f6d323c46c68b2cc22fa6dc722c"
            }
          },
          "metadata": {}
        },
        {
          "output_type": "display_data",
          "data": {
            "text/plain": "<IPython.core.display.HTML object>",
            "text/html": "Tracking run with wandb version 0.18.3"
          },
          "metadata": {}
        },
        {
          "output_type": "display_data",
          "data": {
            "text/plain": "<IPython.core.display.HTML object>",
            "text/html": "Run data is saved locally in <code>/kaggle/working/wandb/run-20241203_132632-rlbsz4f7</code>"
          },
          "metadata": {}
        },
        {
          "output_type": "display_data",
          "data": {
            "text/plain": "<IPython.core.display.HTML object>",
            "text/html": "Syncing run <strong><a href='https://wandb.ai/krishnaugale353-pune-institute-of-computer-technology/huggingface/runs/rlbsz4f7' target=\"_blank\">output</a></strong> to <a href='https://wandb.ai/krishnaugale353-pune-institute-of-computer-technology/huggingface' target=\"_blank\">Weights & Biases</a> (<a href='https://wandb.me/run' target=\"_blank\">docs</a>)<br/>"
          },
          "metadata": {}
        },
        {
          "output_type": "display_data",
          "data": {
            "text/plain": "<IPython.core.display.HTML object>",
            "text/html": " View project at <a href='https://wandb.ai/krishnaugale353-pune-institute-of-computer-technology/huggingface' target=\"_blank\">https://wandb.ai/krishnaugale353-pune-institute-of-computer-technology/huggingface</a>"
          },
          "metadata": {}
        },
        {
          "output_type": "display_data",
          "data": {
            "text/plain": "<IPython.core.display.HTML object>",
            "text/html": " View run at <a href='https://wandb.ai/krishnaugale353-pune-institute-of-computer-technology/huggingface/runs/rlbsz4f7' target=\"_blank\">https://wandb.ai/krishnaugale353-pune-institute-of-computer-technology/huggingface/runs/rlbsz4f7</a>"
          },
          "metadata": {}
        },
        {
          "name": "stderr",
          "text": "/opt/conda/lib/python3.10/site-packages/torch/nn/parallel/parallel_apply.py:79: FutureWarning: `torch.cuda.amp.autocast(args...)` is deprecated. Please use `torch.amp.autocast('cuda', args...)` instead.\n  with torch.cuda.device(device), torch.cuda.stream(stream), autocast(enabled=autocast_enabled):\n/opt/conda/lib/python3.10/site-packages/torch/nn/parallel/_functions.py:68: UserWarning: Was asked to gather along dimension 0, but all input tensors were scalars; will instead unsqueeze and return a vector.\n  warnings.warn('Was asked to gather along dimension 0, but all '\n",
          "output_type": "stream"
        },
        {
          "output_type": "display_data",
          "data": {
            "text/plain": "<IPython.core.display.HTML object>",
            "text/html": "\n    <div>\n      \n      <progress value='500' max='500' style='width:300px; height:20px; vertical-align: middle;'></progress>\n      [500/500 07:36, Epoch 2/2]\n    </div>\n    <table border=\"1\" class=\"dataframe\">\n  <thead>\n <tr style=\"text-align: left;\">\n      <th>Epoch</th>\n      <th>Training Loss</th>\n      <th>Validation Loss</th>\n      <th>Accuracy</th>\n    </tr>\n  </thead>\n  <tbody>\n    <tr>\n      <td>1</td>\n      <td>No log</td>\n      <td>0.704361</td>\n      <td>0.768000</td>\n    </tr>\n    <tr>\n      <td>2</td>\n      <td>0.754300</td>\n      <td>0.659916</td>\n      <td>0.776000</td>\n    </tr>\n  </tbody>\n</table><p>"
          },
          "metadata": {}
        },
        {
          "name": "stderr",
          "text": "/opt/conda/lib/python3.10/site-packages/torch/nn/parallel/parallel_apply.py:79: FutureWarning: `torch.cuda.amp.autocast(args...)` is deprecated. Please use `torch.amp.autocast('cuda', args...)` instead.\n  with torch.cuda.device(device), torch.cuda.stream(stream), autocast(enabled=autocast_enabled):\n/opt/conda/lib/python3.10/site-packages/torch/nn/parallel/_functions.py:68: UserWarning: Was asked to gather along dimension 0, but all input tensors were scalars; will instead unsqueeze and return a vector.\n  warnings.warn('Was asked to gather along dimension 0, but all '\n",
          "output_type": "stream"
        },
        {
          "execution_count": 52,
          "output_type": "execute_result",
          "data": {
            "text/plain": "TrainOutput(global_step=500, training_loss=0.7543099365234375, metrics={'train_runtime': 510.0734, 'train_samples_per_second': 15.684, 'train_steps_per_second': 0.98, 'total_flos': 1931542061386272.0, 'train_loss': 0.7543099365234375, 'epoch': 2.0})"
          },
          "metadata": {}
        }
      ],
      "execution_count": null
    },
    {
      "cell_type": "code",
      "source": [
        "model.save_pretrained(\"finetuned-bert\")"
      ],
      "metadata": {
        "trusted": true,
        "execution": {
          "iopub.status.busy": "2024-12-03T13:34:14.694141Z",
          "iopub.execute_input": "2024-12-03T13:34:14.694659Z",
          "iopub.status.idle": "2024-12-03T13:34:15.725606Z",
          "shell.execute_reply.started": "2024-12-03T13:34:14.694616Z",
          "shell.execute_reply": "2024-12-03T13:34:15.7248Z"
        },
        "id": "xMXCpnV5vckp"
      },
      "outputs": [],
      "execution_count": null
    },
    {
      "cell_type": "code",
      "source": [
        "finetuned_model = AutoModelForSequenceClassification.from_pretrained(\"finetuned-bert\", num_labels=5)"
      ],
      "metadata": {
        "trusted": true,
        "execution": {
          "iopub.status.busy": "2024-12-03T13:34:15.726748Z",
          "iopub.execute_input": "2024-12-03T13:34:15.727086Z",
          "iopub.status.idle": "2024-12-03T13:34:15.78723Z",
          "shell.execute_reply.started": "2024-12-03T13:34:15.727042Z",
          "shell.execute_reply": "2024-12-03T13:34:15.786379Z"
        },
        "id": "Hrg6ehQbvckp"
      },
      "outputs": [],
      "execution_count": null
    },
    {
      "cell_type": "code",
      "source": [
        "data[\"label\"][0]"
      ],
      "metadata": {
        "trusted": true,
        "execution": {
          "iopub.status.busy": "2024-12-03T13:36:30.99847Z",
          "iopub.execute_input": "2024-12-03T13:36:30.999218Z",
          "iopub.status.idle": "2024-12-03T13:36:31.007974Z",
          "shell.execute_reply.started": "2024-12-03T13:36:30.999184Z",
          "shell.execute_reply": "2024-12-03T13:36:31.007035Z"
        },
        "id": "H84Chyw1vckq",
        "outputId": "6d582769-0dc4-4272-df01-9f78e1fbc3c9"
      },
      "outputs": [
        {
          "execution_count": 56,
          "output_type": "execute_result",
          "data": {
            "text/plain": "0"
          },
          "metadata": {}
        }
      ],
      "execution_count": null
    },
    {
      "cell_type": "code",
      "source": [
        "data[\"Complaint\"][1]"
      ],
      "metadata": {
        "trusted": true,
        "execution": {
          "iopub.status.busy": "2024-12-03T13:37:10.872575Z",
          "iopub.execute_input": "2024-12-03T13:37:10.872923Z",
          "iopub.status.idle": "2024-12-03T13:37:10.887338Z",
          "shell.execute_reply.started": "2024-12-03T13:37:10.872897Z",
          "shell.execute_reply": "2024-12-03T13:37:10.88655Z"
        },
        "id": "sEaGlhKmvckq",
        "outputId": "467c1c3c-76bf-42de-91c2-805929f458af"
      },
      "outputs": [
        {
          "execution_count": 58,
          "output_type": "execute_result",
          "data": {
            "text/plain": "' account student loan  high credit  paid in full student loan  high credit  currently on time total account  your debttocredit ratio represents the amount of credit youre using and generally makes up a percentage of your credit score its calculated by dividing an account s reported balance by its credit limit \\n\\nthey report   this is not correct the limit was  the debt to income ratio should be reported at  '"
          },
          "metadata": {}
        }
      ],
      "execution_count": null
    },
    {
      "cell_type": "code",
      "source": [
        "from transformers import pipeline"
      ],
      "metadata": {
        "trusted": true,
        "execution": {
          "iopub.status.busy": "2024-12-03T13:37:16.394585Z",
          "iopub.execute_input": "2024-12-03T13:37:16.395367Z",
          "iopub.status.idle": "2024-12-03T13:37:16.685226Z",
          "shell.execute_reply.started": "2024-12-03T13:37:16.395332Z",
          "shell.execute_reply": "2024-12-03T13:37:16.684343Z"
        },
        "id": "hhKVk3HXvckq"
      },
      "outputs": [],
      "execution_count": null
    },
    {
      "cell_type": "code",
      "source": [
        "clf=pipeline(\"text-classification\",model=finetuned_model,tokenizer=tokenizer)"
      ],
      "metadata": {
        "trusted": true,
        "execution": {
          "iopub.status.busy": "2024-12-03T13:37:17.72743Z",
          "iopub.execute_input": "2024-12-03T13:37:17.728004Z",
          "iopub.status.idle": "2024-12-03T13:37:17.73493Z",
          "shell.execute_reply.started": "2024-12-03T13:37:17.72797Z",
          "shell.execute_reply": "2024-12-03T13:37:17.733997Z"
        },
        "id": "oDkBHHXzvckr",
        "outputId": "52ea2516-31c6-4cb3-8f4d-627faf1d0e99"
      },
      "outputs": [
        {
          "name": "stderr",
          "text": "Hardware accelerator e.g. GPU is available in the environment, but no `device` argument is passed to the `Pipeline` object. Model will be on CPU.\n",
          "output_type": "stream"
        }
      ],
      "execution_count": null
    },
    {
      "cell_type": "code",
      "source": [
        "clf(data[\"Complaint\"][1])"
      ],
      "metadata": {
        "trusted": true,
        "execution": {
          "iopub.status.busy": "2024-12-03T13:34:16.29851Z",
          "iopub.status.idle": "2024-12-03T13:34:16.298955Z",
          "shell.execute_reply.started": "2024-12-03T13:34:16.298727Z",
          "shell.execute_reply": "2024-12-03T13:34:16.29875Z"
        },
        "id": "cGg8JsH8vckr"
      },
      "outputs": [],
      "execution_count": null
    }
  ]
}